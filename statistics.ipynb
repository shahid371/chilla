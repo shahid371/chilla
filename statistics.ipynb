{
 "cells": [
  {
   "cell_type": "markdown",
   "id": "dca19cda",
   "metadata": {},
   "source": [
    "# outline for stats "
   ]
  },
  {
   "cell_type": "markdown",
   "id": "800195f7",
   "metadata": {},
   "source": [
    "1. Descriptive statistics\n",
    "2. data vasualization\n",
    "3. probability distribution\n",
    "4. hypothesis testing\n",
    "5. regression analysis"
   ]
  },
  {
   "cell_type": "markdown",
   "id": "2c11bd29",
   "metadata": {},
   "source": [
    "anova example"
   ]
  },
  {
   "cell_type": "markdown",
   "id": "af07ccee",
   "metadata": {},
   "source": []
  }
 ],
 "metadata": {
  "kernelspec": {
   "display_name": "Python 3 (ipykernel)",
   "language": "python",
   "name": "python3"
  },
  "language_info": {
   "codemirror_mode": {
    "name": "ipython",
    "version": 3
   },
   "file_extension": ".py",
   "mimetype": "text/x-python",
   "name": "python",
   "nbconvert_exporter": "python",
   "pygments_lexer": "ipython3",
   "version": "3.10.2"
  }
 },
 "nbformat": 4,
 "nbformat_minor": 5
}
