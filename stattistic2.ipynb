{
 "cells": [
  {
   "cell_type": "markdown",
   "id": "0db811b4",
   "metadata": {},
   "source": [
    "# step1, normality test"
   ]
  },
  {
   "cell_type": "code",
   "execution_count": 1,
   "id": "fa260d71",
   "metadata": {},
   "outputs": [],
   "source": [
    "#  Test to be used\n",
    "# 1. shapiro-wilk test\n",
    "# 2. kolmogorov-smirnov test"
   ]
  },
  {
   "cell_type": "markdown",
   "id": "c89e5d91",
   "metadata": {},
   "source": [
    "# step 2 , homogeniety test"
   ]
  },
  {
   "cell_type": "code",
   "execution_count": 2,
   "id": "5f52e5f6",
   "metadata": {},
   "outputs": [],
   "source": [
    "#levene test"
   ]
  },
  {
   "cell_type": "markdown",
   "id": "0fa99400",
   "metadata": {},
   "source": [
    "# Step3, purpose"
   ]
  },
  {
   "cell_type": "code",
   "execution_count": 3,
   "id": "b1e05078",
   "metadata": {},
   "outputs": [],
   "source": [
    "# know the purpose of your research question"
   ]
  },
  {
   "cell_type": "markdown",
   "id": "6d7524bc",
   "metadata": {},
   "source": [
    "## 2 type of purpose\n",
    "comparison \n",
    "\n",
    "relationsship"
   ]
  },
  {
   "cell_type": "markdown",
   "id": "6be6e302",
   "metadata": {},
   "source": [
    "### step 4 Data Type"
   ]
  },
  {
   "cell_type": "markdown",
   "id": "c0b1ff14",
   "metadata": {},
   "source": [
    "categorical  \n",
    "\n",
    "continuous"
   ]
  },
  {
   "cell_type": "code",
   "execution_count": null,
   "id": "6b61e628",
   "metadata": {},
   "outputs": [],
   "source": [
    "    "
   ]
  }
 ],
 "metadata": {
  "kernelspec": {
   "display_name": "Python 3 (ipykernel)",
   "language": "python",
   "name": "python3"
  },
  "language_info": {
   "codemirror_mode": {
    "name": "ipython",
    "version": 3
   },
   "file_extension": ".py",
   "mimetype": "text/x-python",
   "name": "python",
   "nbconvert_exporter": "python",
   "pygments_lexer": "ipython3",
   "version": "3.10.2"
  }
 },
 "nbformat": 4,
 "nbformat_minor": 5
}
