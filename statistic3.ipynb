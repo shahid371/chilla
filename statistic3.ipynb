{
 "cells": [
  {
   "cell_type": "markdown",
   "id": "c97b29c2",
   "metadata": {},
   "source": [
    "# Research Design"
   ]
  },
  {
   "cell_type": "markdown",
   "id": "8211a5d8",
   "metadata": {},
   "source": [
    "1.CRD\n",
    "\n",
    "2.RCBD\n",
    "\n",
    "3.LSD"
   ]
  },
  {
   "cell_type": "markdown",
   "id": "70b91ac4",
   "metadata": {},
   "source": []
  }
 ],
 "metadata": {
  "kernelspec": {
   "display_name": "Python 3 (ipykernel)",
   "language": "python",
   "name": "python3"
  },
  "language_info": {
   "codemirror_mode": {
    "name": "ipython",
    "version": 3
   },
   "file_extension": ".py",
   "mimetype": "text/x-python",
   "name": "python",
   "nbconvert_exporter": "python",
   "pygments_lexer": "ipython3",
   "version": "3.10.2"
  }
 },
 "nbformat": 4,
 "nbformat_minor": 5
}
