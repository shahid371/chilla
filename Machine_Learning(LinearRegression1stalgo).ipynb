{
 "cells": [
  {
   "cell_type": "code",
   "execution_count": 2,
   "id": "2080b07d",
   "metadata": {},
   "outputs": [],
   "source": [
    "# video 32, Basic machine learning\n",
    "#the use and development of computer systems that are able to learn and adapt without following explicit instructions,\n",
    "#by using algorithms and statistical models to analyse and draw inferences from patterns in data."
   ]
  },
  {
   "cell_type": "markdown",
   "id": "5bbf5b4f",
   "metadata": {},
   "source": [
    "# LinearRegression(1st algorithm)"
   ]
  },
  {
   "cell_type": "code",
   "execution_count": 3,
   "id": "186eae4e",
   "metadata": {},
   "outputs": [
    {
     "data": {
      "text/html": [
       "<div>\n",
       "<style scoped>\n",
       "    .dataframe tbody tr th:only-of-type {\n",
       "        vertical-align: middle;\n",
       "    }\n",
       "\n",
       "    .dataframe tbody tr th {\n",
       "        vertical-align: top;\n",
       "    }\n",
       "\n",
       "    .dataframe thead th {\n",
       "        text-align: right;\n",
       "    }\n",
       "</style>\n",
       "<table border=\"1\" class=\"dataframe\">\n",
       "  <thead>\n",
       "    <tr style=\"text-align: right;\">\n",
       "      <th></th>\n",
       "      <th>Species</th>\n",
       "      <th>Weight</th>\n",
       "      <th>Length1</th>\n",
       "      <th>Length2</th>\n",
       "      <th>Length3</th>\n",
       "      <th>Height</th>\n",
       "      <th>Width</th>\n",
       "    </tr>\n",
       "  </thead>\n",
       "  <tbody>\n",
       "    <tr>\n",
       "      <th>0</th>\n",
       "      <td>Bream</td>\n",
       "      <td>242.0</td>\n",
       "      <td>23.2</td>\n",
       "      <td>25.4</td>\n",
       "      <td>30.0</td>\n",
       "      <td>11.5200</td>\n",
       "      <td>4.0200</td>\n",
       "    </tr>\n",
       "    <tr>\n",
       "      <th>1</th>\n",
       "      <td>Bream</td>\n",
       "      <td>290.0</td>\n",
       "      <td>24.0</td>\n",
       "      <td>26.3</td>\n",
       "      <td>31.2</td>\n",
       "      <td>12.4800</td>\n",
       "      <td>4.3056</td>\n",
       "    </tr>\n",
       "    <tr>\n",
       "      <th>2</th>\n",
       "      <td>Bream</td>\n",
       "      <td>340.0</td>\n",
       "      <td>23.9</td>\n",
       "      <td>26.5</td>\n",
       "      <td>31.1</td>\n",
       "      <td>12.3778</td>\n",
       "      <td>4.6961</td>\n",
       "    </tr>\n",
       "    <tr>\n",
       "      <th>3</th>\n",
       "      <td>Bream</td>\n",
       "      <td>363.0</td>\n",
       "      <td>26.3</td>\n",
       "      <td>29.0</td>\n",
       "      <td>33.5</td>\n",
       "      <td>12.7300</td>\n",
       "      <td>4.4555</td>\n",
       "    </tr>\n",
       "  </tbody>\n",
       "</table>\n",
       "</div>"
      ],
      "text/plain": [
       "  Species  Weight  Length1  Length2  Length3   Height   Width\n",
       "0   Bream   242.0     23.2     25.4     30.0  11.5200  4.0200\n",
       "1   Bream   290.0     24.0     26.3     31.2  12.4800  4.3056\n",
       "2   Bream   340.0     23.9     26.5     31.1  12.3778  4.6961\n",
       "3   Bream   363.0     26.3     29.0     33.5  12.7300  4.4555"
      ]
     },
     "execution_count": 3,
     "metadata": {},
     "output_type": "execute_result"
    }
   ],
   "source": [
    "#\n",
    "import numpy as np\n",
    "import matplotlib.pyplot as plt\n",
    "import pandas as pd\n",
    "from sklearn.model_selection import train_test_split\n",
    "\n",
    "# get data \n",
    "df = pd.read_csv(\"Fish.csv\")\n",
    "\n",
    "df.head(4)\n"
   ]
  },
  {
   "cell_type": "code",
   "execution_count": 4,
   "id": "7f6f77ab",
   "metadata": {},
   "outputs": [],
   "source": [
    "# practice on web towardsdatascience.com\n"
   ]
  },
  {
   "cell_type": "code",
   "execution_count": 5,
   "id": "d32849f8",
   "metadata": {},
   "outputs": [
    {
     "data": {
      "text/html": [
       "<div>\n",
       "<style scoped>\n",
       "    .dataframe tbody tr th:only-of-type {\n",
       "        vertical-align: middle;\n",
       "    }\n",
       "\n",
       "    .dataframe tbody tr th {\n",
       "        vertical-align: top;\n",
       "    }\n",
       "\n",
       "    .dataframe thead th {\n",
       "        text-align: right;\n",
       "    }\n",
       "</style>\n",
       "<table border=\"1\" class=\"dataframe\">\n",
       "  <thead>\n",
       "    <tr style=\"text-align: right;\">\n",
       "      <th></th>\n",
       "      <th>Weight</th>\n",
       "      <th>Height</th>\n",
       "      <th>Width</th>\n",
       "    </tr>\n",
       "  </thead>\n",
       "  <tbody>\n",
       "    <tr>\n",
       "      <th>0</th>\n",
       "      <td>242.0</td>\n",
       "      <td>11.5200</td>\n",
       "      <td>4.0200</td>\n",
       "    </tr>\n",
       "    <tr>\n",
       "      <th>1</th>\n",
       "      <td>290.0</td>\n",
       "      <td>12.4800</td>\n",
       "      <td>4.3056</td>\n",
       "    </tr>\n",
       "    <tr>\n",
       "      <th>2</th>\n",
       "      <td>340.0</td>\n",
       "      <td>12.3778</td>\n",
       "      <td>4.6961</td>\n",
       "    </tr>\n",
       "    <tr>\n",
       "      <th>3</th>\n",
       "      <td>363.0</td>\n",
       "      <td>12.7300</td>\n",
       "      <td>4.4555</td>\n",
       "    </tr>\n",
       "    <tr>\n",
       "      <th>4</th>\n",
       "      <td>430.0</td>\n",
       "      <td>12.4440</td>\n",
       "      <td>5.1340</td>\n",
       "    </tr>\n",
       "  </tbody>\n",
       "</table>\n",
       "</div>"
      ],
      "text/plain": [
       "   Weight   Height   Width\n",
       "0   242.0  11.5200  4.0200\n",
       "1   290.0  12.4800  4.3056\n",
       "2   340.0  12.3778  4.6961\n",
       "3   363.0  12.7300  4.4555\n",
       "4   430.0  12.4440  5.1340"
      ]
     },
     "execution_count": 5,
     "metadata": {},
     "output_type": "execute_result"
    }
   ],
   "source": [
    " #specify data for  modeling fish[filtering data]\n",
    "data = df[['Weight','Height','Width']]\n",
    "data.head(5)"
   ]
  },
  {
   "cell_type": "code",
   "execution_count": 6,
   "id": "8faf4a4f",
   "metadata": {},
   "outputs": [],
   "source": [
    "X = data.iloc[:, :-1].values #get copy of data set exclude last column\n",
    "y = data.iloc[:, :1].values  #get array of dataset in coloumn 1st"
   ]
  },
  {
   "cell_type": "code",
   "execution_count": 7,
   "id": "0a7fbe05",
   "metadata": {},
   "outputs": [
    {
     "data": {
      "text/plain": [
       "array([[ 242.    ,   11.52  ],\n",
       "       [ 290.    ,   12.48  ],\n",
       "       [ 340.    ,   12.3778],\n",
       "       [ 363.    ,   12.73  ],\n",
       "       [ 430.    ,   12.444 ],\n",
       "       [ 450.    ,   13.6024],\n",
       "       [ 500.    ,   14.1795],\n",
       "       [ 390.    ,   12.67  ],\n",
       "       [ 450.    ,   14.0049],\n",
       "       [ 500.    ,   14.2266],\n",
       "       [ 475.    ,   14.2628],\n",
       "       [ 500.    ,   14.3714],\n",
       "       [ 500.    ,   13.7592],\n",
       "       [ 340.    ,   13.9129],\n",
       "       [ 600.    ,   14.9544],\n",
       "       [ 600.    ,   15.438 ],\n",
       "       [ 700.    ,   14.8604],\n",
       "       [ 700.    ,   14.938 ],\n",
       "       [ 610.    ,   15.633 ],\n",
       "       [ 650.    ,   14.4738],\n",
       "       [ 575.    ,   15.1285],\n",
       "       [ 685.    ,   15.9936],\n",
       "       [ 620.    ,   15.5227],\n",
       "       [ 680.    ,   15.4686],\n",
       "       [ 700.    ,   16.2405],\n",
       "       [ 725.    ,   16.36  ],\n",
       "       [ 720.    ,   16.3618],\n",
       "       [ 714.    ,   16.517 ],\n",
       "       [ 850.    ,   16.8896],\n",
       "       [1000.    ,   18.957 ],\n",
       "       [ 920.    ,   18.0369],\n",
       "       [ 955.    ,   18.084 ],\n",
       "       [ 925.    ,   18.7542],\n",
       "       [ 975.    ,   18.6354],\n",
       "       [ 950.    ,   17.6235],\n",
       "       [  40.    ,    4.1472],\n",
       "       [  69.    ,    5.2983],\n",
       "       [  78.    ,    5.5756],\n",
       "       [  87.    ,    5.6166],\n",
       "       [ 120.    ,    6.216 ],\n",
       "       [   0.    ,    6.4752],\n",
       "       [ 110.    ,    6.1677],\n",
       "       [ 120.    ,    6.1146],\n",
       "       [ 150.    ,    5.8045],\n",
       "       [ 145.    ,    6.6339],\n",
       "       [ 160.    ,    7.0334],\n",
       "       [ 140.    ,    6.55  ],\n",
       "       [ 160.    ,    6.4   ],\n",
       "       [ 169.    ,    7.5344],\n",
       "       [ 161.    ,    6.9153],\n",
       "       [ 200.    ,    7.3968],\n",
       "       [ 180.    ,    7.0866],\n",
       "       [ 290.    ,    8.8768],\n",
       "       [ 272.    ,    8.568 ],\n",
       "       [ 390.    ,    9.485 ],\n",
       "       [ 270.    ,    8.3804],\n",
       "       [ 270.    ,    8.1454],\n",
       "       [ 306.    ,    8.778 ],\n",
       "       [ 540.    ,   10.744 ],\n",
       "       [ 800.    ,   11.7612],\n",
       "       [1000.    ,   12.354 ],\n",
       "       [  55.    ,    6.8475],\n",
       "       [  60.    ,    6.5772],\n",
       "       [  90.    ,    7.4052],\n",
       "       [ 120.    ,    8.3922],\n",
       "       [ 150.    ,    8.8928],\n",
       "       [ 140.    ,    8.5376],\n",
       "       [ 170.    ,    9.396 ],\n",
       "       [ 145.    ,    9.7364],\n",
       "       [ 200.    ,   10.3458],\n",
       "       [ 273.    ,   11.088 ],\n",
       "       [ 300.    ,   11.368 ],\n",
       "       [   5.9   ,    2.112 ],\n",
       "       [  32.    ,    3.528 ],\n",
       "       [  40.    ,    3.824 ],\n",
       "       [  51.5   ,    4.5924],\n",
       "       [  70.    ,    4.588 ],\n",
       "       [ 100.    ,    5.2224],\n",
       "       [  78.    ,    5.1992],\n",
       "       [  80.    ,    5.6358],\n",
       "       [  85.    ,    5.1376],\n",
       "       [  85.    ,    5.082 ],\n",
       "       [ 110.    ,    5.6925],\n",
       "       [ 115.    ,    5.9175],\n",
       "       [ 125.    ,    5.6925],\n",
       "       [ 130.    ,    6.384 ],\n",
       "       [ 120.    ,    6.11  ],\n",
       "       [ 120.    ,    5.64  ],\n",
       "       [ 130.    ,    6.11  ],\n",
       "       [ 135.    ,    5.875 ],\n",
       "       [ 110.    ,    5.5225],\n",
       "       [ 130.    ,    5.856 ],\n",
       "       [ 150.    ,    6.792 ],\n",
       "       [ 145.    ,    5.9532],\n",
       "       [ 150.    ,    5.2185],\n",
       "       [ 170.    ,    6.275 ],\n",
       "       [ 225.    ,    7.293 ],\n",
       "       [ 145.    ,    6.375 ],\n",
       "       [ 188.    ,    6.7334],\n",
       "       [ 180.    ,    6.4395],\n",
       "       [ 197.    ,    6.561 ],\n",
       "       [ 218.    ,    7.168 ],\n",
       "       [ 300.    ,    8.323 ],\n",
       "       [ 260.    ,    7.1672],\n",
       "       [ 265.    ,    7.0516],\n",
       "       [ 250.    ,    7.2828],\n",
       "       [ 250.    ,    7.8204],\n",
       "       [ 300.    ,    7.5852],\n",
       "       [ 320.    ,    7.6156],\n",
       "       [ 514.    ,   10.03  ],\n",
       "       [ 556.    ,   10.2565],\n",
       "       [ 840.    ,   11.4884],\n",
       "       [ 685.    ,   10.881 ],\n",
       "       [ 700.    ,   10.6091],\n",
       "       [ 700.    ,   10.835 ],\n",
       "       [ 690.    ,   10.5717],\n",
       "       [ 900.    ,   11.1366],\n",
       "       [ 650.    ,   11.1366],\n",
       "       [ 820.    ,   12.4313],\n",
       "       [ 850.    ,   11.9286],\n",
       "       [ 900.    ,   11.73  ],\n",
       "       [1015.    ,   12.3808],\n",
       "       [ 820.    ,   11.135 ],\n",
       "       [1100.    ,   12.8002],\n",
       "       [1000.    ,   11.9328],\n",
       "       [1100.    ,   12.5125],\n",
       "       [1000.    ,   12.604 ],\n",
       "       [1000.    ,   12.4888],\n",
       "       [ 200.    ,    5.568 ],\n",
       "       [ 300.    ,    5.7078],\n",
       "       [ 300.    ,    5.9364],\n",
       "       [ 300.    ,    6.2884],\n",
       "       [ 430.    ,    7.29  ],\n",
       "       [ 345.    ,    6.396 ],\n",
       "       [ 456.    ,    7.28  ],\n",
       "       [ 510.    ,    6.825 ],\n",
       "       [ 540.    ,    7.786 ],\n",
       "       [ 500.    ,    6.96  ],\n",
       "       [ 567.    ,    7.792 ],\n",
       "       [ 770.    ,    7.68  ],\n",
       "       [ 950.    ,    8.9262],\n",
       "       [1250.    ,   10.6863],\n",
       "       [1600.    ,    9.6   ],\n",
       "       [1550.    ,    9.6   ],\n",
       "       [1650.    ,   10.812 ],\n",
       "       [   6.7   ,    1.7388],\n",
       "       [   7.5   ,    1.972 ],\n",
       "       [   7.    ,    1.7284],\n",
       "       [   9.7   ,    2.196 ],\n",
       "       [   9.8   ,    2.0832],\n",
       "       [   8.7   ,    1.9782],\n",
       "       [  10.    ,    2.2139],\n",
       "       [   9.9   ,    2.2139],\n",
       "       [   9.8   ,    2.2044],\n",
       "       [  12.2   ,    2.0904],\n",
       "       [  13.4   ,    2.43  ],\n",
       "       [  12.2   ,    2.277 ],\n",
       "       [  19.7   ,    2.8728],\n",
       "       [  19.9   ,    2.9322]])"
      ]
     },
     "execution_count": 7,
     "metadata": {},
     "output_type": "execute_result"
    }
   ],
   "source": [
    "X"
   ]
  },
  {
   "cell_type": "code",
   "execution_count": 8,
   "id": "ce02896a",
   "metadata": {},
   "outputs": [],
   "source": [
    "  X_train, X_test, y_train, y_test = train_test_split(X, y, test_size=1/3, random_state=0)"
   ]
  },
  {
   "cell_type": "code",
   "execution_count": 9,
   "id": "21711b66",
   "metadata": {},
   "outputs": [
    {
     "data": {
      "text/html": [
       "<style>#sk-container-id-1 {color: black;background-color: white;}#sk-container-id-1 pre{padding: 0;}#sk-container-id-1 div.sk-toggleable {background-color: white;}#sk-container-id-1 label.sk-toggleable__label {cursor: pointer;display: block;width: 100%;margin-bottom: 0;padding: 0.3em;box-sizing: border-box;text-align: center;}#sk-container-id-1 label.sk-toggleable__label-arrow:before {content: \"▸\";float: left;margin-right: 0.25em;color: #696969;}#sk-container-id-1 label.sk-toggleable__label-arrow:hover:before {color: black;}#sk-container-id-1 div.sk-estimator:hover label.sk-toggleable__label-arrow:before {color: black;}#sk-container-id-1 div.sk-toggleable__content {max-height: 0;max-width: 0;overflow: hidden;text-align: left;background-color: #f0f8ff;}#sk-container-id-1 div.sk-toggleable__content pre {margin: 0.2em;color: black;border-radius: 0.25em;background-color: #f0f8ff;}#sk-container-id-1 input.sk-toggleable__control:checked~div.sk-toggleable__content {max-height: 200px;max-width: 100%;overflow: auto;}#sk-container-id-1 input.sk-toggleable__control:checked~label.sk-toggleable__label-arrow:before {content: \"▾\";}#sk-container-id-1 div.sk-estimator input.sk-toggleable__control:checked~label.sk-toggleable__label {background-color: #d4ebff;}#sk-container-id-1 div.sk-label input.sk-toggleable__control:checked~label.sk-toggleable__label {background-color: #d4ebff;}#sk-container-id-1 input.sk-hidden--visually {border: 0;clip: rect(1px 1px 1px 1px);clip: rect(1px, 1px, 1px, 1px);height: 1px;margin: -1px;overflow: hidden;padding: 0;position: absolute;width: 1px;}#sk-container-id-1 div.sk-estimator {font-family: monospace;background-color: #f0f8ff;border: 1px dotted black;border-radius: 0.25em;box-sizing: border-box;margin-bottom: 0.5em;}#sk-container-id-1 div.sk-estimator:hover {background-color: #d4ebff;}#sk-container-id-1 div.sk-parallel-item::after {content: \"\";width: 100%;border-bottom: 1px solid gray;flex-grow: 1;}#sk-container-id-1 div.sk-label:hover label.sk-toggleable__label {background-color: #d4ebff;}#sk-container-id-1 div.sk-serial::before {content: \"\";position: absolute;border-left: 1px solid gray;box-sizing: border-box;top: 0;bottom: 0;left: 50%;z-index: 0;}#sk-container-id-1 div.sk-serial {display: flex;flex-direction: column;align-items: center;background-color: white;padding-right: 0.2em;padding-left: 0.2em;position: relative;}#sk-container-id-1 div.sk-item {position: relative;z-index: 1;}#sk-container-id-1 div.sk-parallel {display: flex;align-items: stretch;justify-content: center;background-color: white;position: relative;}#sk-container-id-1 div.sk-item::before, #sk-container-id-1 div.sk-parallel-item::before {content: \"\";position: absolute;border-left: 1px solid gray;box-sizing: border-box;top: 0;bottom: 0;left: 50%;z-index: -1;}#sk-container-id-1 div.sk-parallel-item {display: flex;flex-direction: column;z-index: 1;position: relative;background-color: white;}#sk-container-id-1 div.sk-parallel-item:first-child::after {align-self: flex-end;width: 50%;}#sk-container-id-1 div.sk-parallel-item:last-child::after {align-self: flex-start;width: 50%;}#sk-container-id-1 div.sk-parallel-item:only-child::after {width: 0;}#sk-container-id-1 div.sk-dashed-wrapped {border: 1px dashed gray;margin: 0 0.4em 0.5em 0.4em;box-sizing: border-box;padding-bottom: 0.4em;background-color: white;}#sk-container-id-1 div.sk-label label {font-family: monospace;font-weight: bold;display: inline-block;line-height: 1.2em;}#sk-container-id-1 div.sk-label-container {text-align: center;}#sk-container-id-1 div.sk-container {/* jupyter's `normalize.less` sets `[hidden] { display: none; }` but bootstrap.min.css set `[hidden] { display: none !important; }` so we also need the `!important` here to be able to override the default hidden behavior on the sphinx rendered scikit-learn.org. See: https://github.com/scikit-learn/scikit-learn/issues/21755 */display: inline-block !important;position: relative;}#sk-container-id-1 div.sk-text-repr-fallback {display: none;}</style><div id=\"sk-container-id-1\" class=\"sk-top-container\"><div class=\"sk-text-repr-fallback\"><pre>LinearRegression()</pre><b>In a Jupyter environment, please rerun this cell to show the HTML representation or trust the notebook. <br />On GitHub, the HTML representation is unable to render, please try loading this page with nbviewer.org.</b></div><div class=\"sk-container\" hidden><div class=\"sk-item\"><div class=\"sk-estimator sk-toggleable\"><input class=\"sk-toggleable__control sk-hidden--visually\" id=\"sk-estimator-id-1\" type=\"checkbox\" checked><label for=\"sk-estimator-id-1\" class=\"sk-toggleable__label sk-toggleable__label-arrow\">LinearRegression</label><div class=\"sk-toggleable__content\"><pre>LinearRegression()</pre></div></div></div></div></div>"
      ],
      "text/plain": [
       "LinearRegression()"
      ]
     },
     "execution_count": 9,
     "metadata": {},
     "output_type": "execute_result"
    }
   ],
   "source": [
    "# Fitting simple linear regression to the training set\n",
    "from sklearn.linear_model import LinearRegression\n",
    "regressor = LinearRegression()\n",
    "regressor.fit(X_train, y_train)"
   ]
  },
  {
   "cell_type": "code",
   "execution_count": 10,
   "id": "5a9e568c",
   "metadata": {},
   "outputs": [],
   "source": [
    "# predicting the test set result\n",
    "y_pred = regressor.predict(X_test)"
   ]
  },
  {
   "cell_type": "code",
   "execution_count": 11,
   "id": "d5ec7006",
   "metadata": {},
   "outputs": [
    {
     "data": {
      "text/plain": [
       "array([[3.90000000e+02],\n",
       "       [3.23025705e-13],\n",
       "       [1.70000000e+02],\n",
       "       [1.60000000e+02],\n",
       "       [5.56000000e+02],\n",
       "       [9.00000000e+02],\n",
       "       [8.00000000e+02],\n",
       "       [3.00000000e+02],\n",
       "       [9.75000000e+02],\n",
       "       [1.15000000e+02],\n",
       "       [2.00000000e+02],\n",
       "       [4.56000000e+02],\n",
       "       [1.00000000e+03],\n",
       "       [1.00000000e+03],\n",
       "       [6.00000000e+01],\n",
       "       [7.80000000e+01],\n",
       "       [1.45000000e+02],\n",
       "       [1.60000000e+03],\n",
       "       [1.30000000e+02],\n",
       "       [7.20000000e+02],\n",
       "       [5.50000000e+01],\n",
       "       [3.90000000e+02],\n",
       "       [1.20000000e+02],\n",
       "       [1.65000000e+03],\n",
       "       [9.00000000e+01],\n",
       "       [4.50000000e+02],\n",
       "       [7.00000000e+02],\n",
       "       [2.70000000e+02],\n",
       "       [8.50000000e+02],\n",
       "       [9.70000000e+00],\n",
       "       [6.50000000e+02],\n",
       "       [1.10000000e+02],\n",
       "       [1.55000000e+03],\n",
       "       [3.00000000e+02],\n",
       "       [7.00000000e+02],\n",
       "       [2.25000000e+02],\n",
       "       [3.00000000e+02],\n",
       "       [6.20000000e+02],\n",
       "       [7.00000000e+02],\n",
       "       [1.35000000e+02],\n",
       "       [5.14000000e+02],\n",
       "       [4.00000000e+01],\n",
       "       [1.45000000e+02],\n",
       "       [7.14000000e+02],\n",
       "       [1.97000000e+01],\n",
       "       [1.97000000e+02],\n",
       "       [1.80000000e+02],\n",
       "       [2.18000000e+02],\n",
       "       [6.10000000e+02],\n",
       "       [3.20000000e+02],\n",
       "       [9.20000000e+02],\n",
       "       [3.20000000e+01],\n",
       "       [1.22000000e+01]])"
      ]
     },
     "execution_count": 11,
     "metadata": {},
     "output_type": "execute_result"
    }
   ],
   "source": [
    "y_pred"
   ]
  },
  {
   "cell_type": "code",
   "execution_count": 14,
   "id": "70823463",
   "metadata": {},
   "outputs": [
    {
     "ename": "ValueError",
     "evalue": "x and y must be the same size",
     "output_type": "error",
     "traceback": [
      "\u001b[1;31m---------------------------------------------------------------------------\u001b[0m",
      "\u001b[1;31mValueError\u001b[0m                                Traceback (most recent call last)",
      "Input \u001b[1;32mIn [14]\u001b[0m, in \u001b[0;36m<module>\u001b[1;34m\u001b[0m\n\u001b[1;32m----> 1\u001b[0m \u001b[43mplt\u001b[49m\u001b[38;5;241;43m.\u001b[39;49m\u001b[43mscatter\u001b[49m\u001b[43m(\u001b[49m\u001b[43mX_train\u001b[49m\u001b[43m,\u001b[49m\u001b[43m \u001b[49m\u001b[43my_train\u001b[49m\u001b[43m,\u001b[49m\u001b[43m)\u001b[49m\n\u001b[0;32m      2\u001b[0m plt\u001b[38;5;241m.\u001b[39mshow()\n",
      "File \u001b[1;32m~\\AppData\\Local\\Programs\\Python\\Python310\\lib\\site-packages\\matplotlib\\pyplot.py:2807\u001b[0m, in \u001b[0;36mscatter\u001b[1;34m(x, y, s, c, marker, cmap, norm, vmin, vmax, alpha, linewidths, edgecolors, plotnonfinite, data, **kwargs)\u001b[0m\n\u001b[0;32m   2802\u001b[0m \u001b[38;5;129m@_copy_docstring_and_deprecators\u001b[39m(Axes\u001b[38;5;241m.\u001b[39mscatter)\n\u001b[0;32m   2803\u001b[0m \u001b[38;5;28;01mdef\u001b[39;00m \u001b[38;5;21mscatter\u001b[39m(\n\u001b[0;32m   2804\u001b[0m         x, y, s\u001b[38;5;241m=\u001b[39m\u001b[38;5;28;01mNone\u001b[39;00m, c\u001b[38;5;241m=\u001b[39m\u001b[38;5;28;01mNone\u001b[39;00m, marker\u001b[38;5;241m=\u001b[39m\u001b[38;5;28;01mNone\u001b[39;00m, cmap\u001b[38;5;241m=\u001b[39m\u001b[38;5;28;01mNone\u001b[39;00m, norm\u001b[38;5;241m=\u001b[39m\u001b[38;5;28;01mNone\u001b[39;00m,\n\u001b[0;32m   2805\u001b[0m         vmin\u001b[38;5;241m=\u001b[39m\u001b[38;5;28;01mNone\u001b[39;00m, vmax\u001b[38;5;241m=\u001b[39m\u001b[38;5;28;01mNone\u001b[39;00m, alpha\u001b[38;5;241m=\u001b[39m\u001b[38;5;28;01mNone\u001b[39;00m, linewidths\u001b[38;5;241m=\u001b[39m\u001b[38;5;28;01mNone\u001b[39;00m, \u001b[38;5;241m*\u001b[39m,\n\u001b[0;32m   2806\u001b[0m         edgecolors\u001b[38;5;241m=\u001b[39m\u001b[38;5;28;01mNone\u001b[39;00m, plotnonfinite\u001b[38;5;241m=\u001b[39m\u001b[38;5;28;01mFalse\u001b[39;00m, data\u001b[38;5;241m=\u001b[39m\u001b[38;5;28;01mNone\u001b[39;00m, \u001b[38;5;241m*\u001b[39m\u001b[38;5;241m*\u001b[39mkwargs):\n\u001b[1;32m-> 2807\u001b[0m     __ret \u001b[38;5;241m=\u001b[39m gca()\u001b[38;5;241m.\u001b[39mscatter(\n\u001b[0;32m   2808\u001b[0m         x, y, s\u001b[38;5;241m=\u001b[39ms, c\u001b[38;5;241m=\u001b[39mc, marker\u001b[38;5;241m=\u001b[39mmarker, cmap\u001b[38;5;241m=\u001b[39mcmap, norm\u001b[38;5;241m=\u001b[39mnorm,\n\u001b[0;32m   2809\u001b[0m         vmin\u001b[38;5;241m=\u001b[39mvmin, vmax\u001b[38;5;241m=\u001b[39mvmax, alpha\u001b[38;5;241m=\u001b[39malpha, linewidths\u001b[38;5;241m=\u001b[39mlinewidths,\n\u001b[0;32m   2810\u001b[0m         edgecolors\u001b[38;5;241m=\u001b[39medgecolors, plotnonfinite\u001b[38;5;241m=\u001b[39mplotnonfinite,\n\u001b[0;32m   2811\u001b[0m         \u001b[38;5;241m*\u001b[39m\u001b[38;5;241m*\u001b[39m({\u001b[38;5;124m\"\u001b[39m\u001b[38;5;124mdata\u001b[39m\u001b[38;5;124m\"\u001b[39m: data} \u001b[38;5;28;01mif\u001b[39;00m data \u001b[38;5;129;01mis\u001b[39;00m \u001b[38;5;129;01mnot\u001b[39;00m \u001b[38;5;28;01mNone\u001b[39;00m \u001b[38;5;28;01melse\u001b[39;00m {}), \u001b[38;5;241m*\u001b[39m\u001b[38;5;241m*\u001b[39mkwargs)\n\u001b[0;32m   2812\u001b[0m     sci(__ret)\n\u001b[0;32m   2813\u001b[0m     \u001b[38;5;28;01mreturn\u001b[39;00m __ret\n",
      "File \u001b[1;32m~\\AppData\\Local\\Programs\\Python\\Python310\\lib\\site-packages\\matplotlib\\__init__.py:1412\u001b[0m, in \u001b[0;36m_preprocess_data.<locals>.inner\u001b[1;34m(ax, data, *args, **kwargs)\u001b[0m\n\u001b[0;32m   1409\u001b[0m \u001b[38;5;129m@functools\u001b[39m\u001b[38;5;241m.\u001b[39mwraps(func)\n\u001b[0;32m   1410\u001b[0m \u001b[38;5;28;01mdef\u001b[39;00m \u001b[38;5;21minner\u001b[39m(ax, \u001b[38;5;241m*\u001b[39margs, data\u001b[38;5;241m=\u001b[39m\u001b[38;5;28;01mNone\u001b[39;00m, \u001b[38;5;241m*\u001b[39m\u001b[38;5;241m*\u001b[39mkwargs):\n\u001b[0;32m   1411\u001b[0m     \u001b[38;5;28;01mif\u001b[39;00m data \u001b[38;5;129;01mis\u001b[39;00m \u001b[38;5;28;01mNone\u001b[39;00m:\n\u001b[1;32m-> 1412\u001b[0m         \u001b[38;5;28;01mreturn\u001b[39;00m func(ax, \u001b[38;5;241m*\u001b[39m\u001b[38;5;28mmap\u001b[39m(sanitize_sequence, args), \u001b[38;5;241m*\u001b[39m\u001b[38;5;241m*\u001b[39mkwargs)\n\u001b[0;32m   1414\u001b[0m     bound \u001b[38;5;241m=\u001b[39m new_sig\u001b[38;5;241m.\u001b[39mbind(ax, \u001b[38;5;241m*\u001b[39margs, \u001b[38;5;241m*\u001b[39m\u001b[38;5;241m*\u001b[39mkwargs)\n\u001b[0;32m   1415\u001b[0m     auto_label \u001b[38;5;241m=\u001b[39m (bound\u001b[38;5;241m.\u001b[39marguments\u001b[38;5;241m.\u001b[39mget(label_namer)\n\u001b[0;32m   1416\u001b[0m                   \u001b[38;5;129;01mor\u001b[39;00m bound\u001b[38;5;241m.\u001b[39mkwargs\u001b[38;5;241m.\u001b[39mget(label_namer))\n",
      "File \u001b[1;32m~\\AppData\\Local\\Programs\\Python\\Python310\\lib\\site-packages\\matplotlib\\axes\\_axes.py:4369\u001b[0m, in \u001b[0;36mAxes.scatter\u001b[1;34m(self, x, y, s, c, marker, cmap, norm, vmin, vmax, alpha, linewidths, edgecolors, plotnonfinite, **kwargs)\u001b[0m\n\u001b[0;32m   4367\u001b[0m y \u001b[38;5;241m=\u001b[39m np\u001b[38;5;241m.\u001b[39mma\u001b[38;5;241m.\u001b[39mravel(y)\n\u001b[0;32m   4368\u001b[0m \u001b[38;5;28;01mif\u001b[39;00m x\u001b[38;5;241m.\u001b[39msize \u001b[38;5;241m!=\u001b[39m y\u001b[38;5;241m.\u001b[39msize:\n\u001b[1;32m-> 4369\u001b[0m     \u001b[38;5;28;01mraise\u001b[39;00m \u001b[38;5;167;01mValueError\u001b[39;00m(\u001b[38;5;124m\"\u001b[39m\u001b[38;5;124mx and y must be the same size\u001b[39m\u001b[38;5;124m\"\u001b[39m)\n\u001b[0;32m   4371\u001b[0m \u001b[38;5;28;01mif\u001b[39;00m s \u001b[38;5;129;01mis\u001b[39;00m \u001b[38;5;28;01mNone\u001b[39;00m:\n\u001b[0;32m   4372\u001b[0m     s \u001b[38;5;241m=\u001b[39m (\u001b[38;5;241m20\u001b[39m \u001b[38;5;28;01mif\u001b[39;00m rcParams[\u001b[38;5;124m'\u001b[39m\u001b[38;5;124m_internal.classic_mode\u001b[39m\u001b[38;5;124m'\u001b[39m] \u001b[38;5;28;01melse\u001b[39;00m\n\u001b[0;32m   4373\u001b[0m          rcParams[\u001b[38;5;124m'\u001b[39m\u001b[38;5;124mlines.markersize\u001b[39m\u001b[38;5;124m'\u001b[39m] \u001b[38;5;241m*\u001b[39m\u001b[38;5;241m*\u001b[39m \u001b[38;5;241m2.0\u001b[39m)\n",
      "\u001b[1;31mValueError\u001b[0m: x and y must be the same size"
     ]
    },
    {
     "data": {
      "image/png": "[encoded data removed]",
      "text/plain": [
       "<Figure size 432x288 with 1 Axes>"
      ]
     },
     "metadata": {
      "needs_background": "light"
     },
     "output_type": "display_data"
    }
   ],
   "source": [
    " plt.scatter(X_train, y_train,)\n",
    "plt.show()"
   ]
  },
  {
   "cell_type": "code",
   "execution_count": null,
   "id": "a16082ef",
   "metadata": {},
   "outputs": [],
   "source": []
  }
 ],
 "metadata": {
  "kernelspec": {
   "display_name": "Python 3 (ipykernel)",
   "language": "python",
   "name": "python3"
  },
  "language_info": {
   "codemirror_mode": {
    "name": "ipython",
    "version": 3
   },
   "file_extension": ".py",
   "mimetype": "text/x-python",
   "name": "python",
   "nbconvert_exporter": "python",
   "pygments_lexer": "ipython3",
   "version": "3.10.2"
  }
 },
 "nbformat": 4,
 "nbformat_minor": 5
}
